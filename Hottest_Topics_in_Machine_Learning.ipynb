{
  "nbformat": 4,
  "nbformat_minor": 0,
  "metadata": {
    "colab": {
      "name": "Hottest Topics in Machine Learning.ipynb",
      "provenance": [],
      "toc_visible": true,
      "authorship_tag": "ABX9TyN3PeLoCO0BlHS90QGdRZlj",
      "include_colab_link": true
    },
    "kernelspec": {
      "name": "python3",
      "display_name": "Python 3"
    }
  },
  "cells": [
    {
      "cell_type": "markdown",
      "metadata": {
        "id": "view-in-github",
        "colab_type": "text"
      },
      "source": [
        "<a href=\"https://colab.research.google.com/github/HayatHACHEMI/Hottest-Topics-ML/blob/master/Hottest_Topics_in_Machine_Learning.ipynb\" target=\"_parent\"><img src=\"https://colab.research.google.com/assets/colab-badge.svg\" alt=\"Open In Colab\"/></a>"
      ]
    },
    {
      "cell_type": "markdown",
      "metadata": {
        "id": "fs_U0HpHDEQV",
        "colab_type": "text"
      },
      "source": [
        "# **The Hottest Topics in Machine Learning** "
      ]
    },
    {
      "cell_type": "markdown",
      "metadata": {
        "id": "Ih-AR3ZQDm8U",
        "colab_type": "text"
      },
      "source": [
        "Neural Information Processing Systems (NIPS) is one of the top machine learning conferences in the world. It covers topics ranging from deep learning and computer vision to cognitive science and reinforcement learning.\n",
        "\n",
        "<img src=\"https://sda.tech/wp-content/uploads/2018/01/Nips.jpg\" width=\"100\" height=\"100\" alt=\"The logo of NIPS (Neural Information Processing Systems)\" />\n",
        "\n",
        "In this Project, we will analyze a large collection of NIPS research papers  to discover the latest trends in machine learning.\n",
        "\n",
        " We will perform Natural Language Processing using Python, pandas, sklearn, and the latent Dirichlet allocation (LDA) method on NIPS papers to uncover the trendiest topics in machine learning research.\n",
        "\n",
        "\n"
      ]
    },
    {
      "cell_type": "markdown",
      "metadata": {
        "id": "T3xWFYCMOkdM",
        "colab_type": "text"
      },
      "source": [
        "**What is topic modeling?** \n",
        "Topic modeling is a branch of unsupervised natural language processing which is used to represent a text document with the help of several topics, that can best explain the underlying information in a particular document. \n",
        "\n",
        "**What is LDA?** \n",
        "Latent Dirichlet Allocation [(LDA)](http://blog.echen.me/2011/08/22/introduction-to-latent-dirichlet-allocation/) is an example of topic model and is used to classify text in a document to a particular topic. It builds a topic per document model and words per topic model, modeled as Dirichlet distributions.\n"
      ]
    },
    {
      "cell_type": "markdown",
      "metadata": {
        "id": "28q-Ba1_KCJS",
        "colab_type": "text"
      },
      "source": [
        "**Importing Libraries** "
      ]
    },
    {
      "cell_type": "code",
      "metadata": {
        "id": "0mPBSMVPGwPl",
        "colab_type": "code",
        "colab": {}
      },
      "source": [
        "import pandas as pd # TO use pandas Dataframes\n",
        "import numpy as np\n",
        "\n",
        "import matplotlib.pyplot as plt  # To vizualize \n",
        "%matplotlib inline\n",
        "\n",
        "import re # The regular expression library\n",
        "import wordcloud # The wordcloud library\n",
        "\n",
        "from sklearn.feature_extraction.text import CountVectorizer\n",
        "\n",
        "from sklearn.decomposition import LatentDirichletAllocation as LDA # Load the LDA model from sk-learn\n",
        "\n",
        "import warnings\n",
        "warnings.simplefilter(\"ignore\", DeprecationWarning)"
      ],
      "execution_count": null,
      "outputs": []
    },
    {
      "cell_type": "markdown",
      "metadata": {
        "id": "k0oniISIEi4P",
        "colab_type": "text"
      },
      "source": [
        "## **1.Data** "
      ]
    },
    {
      "cell_type": "markdown",
      "metadata": {
        "id": "R-xwW5j_Kje3",
        "colab_type": "text"
      },
      "source": [
        "### **1.1.Loading Data**"
      ]
    },
    {
      "cell_type": "markdown",
      "metadata": {
        "id": "6MdJGwvvEoe-",
        "colab_type": "text"
      },
      "source": [
        "The dataset includes the title, authors, abstracts, and extracted text for all NIPS papers to date (ranging from the first 1987 conference to the current 2016 conference), it is available on [Kaggle](https://www.kaggle.com/benhamner/nips-papers?select=papers.csv) "
      ]
    },
    {
      "cell_type": "markdown",
      "metadata": {
        "id": "pAmgjAWPFSoE",
        "colab_type": "text"
      },
      "source": [
        "Let's dowload Kaggle API to use any dataset directly from the kaggle source ! "
      ]
    },
    {
      "cell_type": "code",
      "metadata": {
        "id": "QWHvuwc8C8uk",
        "colab_type": "code",
        "colab": {}
      },
      "source": [
        "!pip install -q kaggle"
      ],
      "execution_count": null,
      "outputs": []
    },
    {
      "cell_type": "code",
      "metadata": {
        "id": "UbqTQcNHDMBO",
        "colab_type": "code",
        "colab": {}
      },
      "source": [
        "from google.colab import files\n",
        "files.upload() #pour uploader kaggle.json"
      ],
      "execution_count": null,
      "outputs": []
    },
    {
      "cell_type": "code",
      "metadata": {
        "id": "TDz1pAz4EyUb",
        "colab_type": "code",
        "colab": {
          "base_uri": "https://localhost:8080/",
          "height": 151
        },
        "outputId": "04abf747-83d4-4fd7-b8cf-0c8889ed9ddc"
      },
      "source": [
        "!mkdir .kaggle\n",
        "!mv kaggle.json .kaggle\n",
        "!ls -lha"
      ],
      "execution_count": null,
      "outputs": [
        {
          "output_type": "stream",
          "text": [
            "mkdir: cannot create directory ‘.kaggle’: File exists\n",
            "total 142M\n",
            "drwxr-xr-x 1 root root 4.0K Aug  4 21:44 .\n",
            "drwxr-xr-x 1 root root 4.0K Aug  4 20:12 ..\n",
            "drwxr-xr-x 1 root root 4.0K Aug  3 16:17 .config\n",
            "drwxr-xr-x 2 root root 4.0K Aug  4 21:44 .kaggle\n",
            "-rw-r--r-- 1 root root 142M Aug  4 20:11 nips-papers.zip\n",
            "drwxr-xr-x 1 root root 4.0K Jul 30 16:30 sample_data\n"
          ],
          "name": "stdout"
        }
      ]
    },
    {
      "cell_type": "code",
      "metadata": {
        "id": "xDEjsY7TEy4j",
        "colab_type": "code",
        "colab": {
          "base_uri": "https://localhost:8080/",
          "height": 84
        },
        "outputId": "b102c135-5db9-4857-82f2-f57cc6324eb2"
      },
      "source": [
        "!ls -lha .kaggle"
      ],
      "execution_count": null,
      "outputs": [
        {
          "output_type": "stream",
          "text": [
            "total 12K\n",
            "drwxr-xr-x 2 root root 4.0K Aug  4 21:44 .\n",
            "drwxr-xr-x 1 root root 4.0K Aug  4 21:44 ..\n",
            "-rw-r--r-- 1 root root   68 Aug  4 21:44 kaggle.json\n"
          ],
          "name": "stdout"
        }
      ]
    },
    {
      "cell_type": "code",
      "metadata": {
        "id": "AFqf6_PMEy7L",
        "colab_type": "code",
        "colab": {}
      },
      "source": [
        "import os\n",
        "os.environ['KAGGLE_CONFIG_DIR'] = \"/content/.kaggle\""
      ],
      "execution_count": null,
      "outputs": []
    },
    {
      "cell_type": "code",
      "metadata": {
        "id": "0puWdtnNE2p5",
        "colab_type": "code",
        "colab": {
          "base_uri": "https://localhost:8080/",
          "height": 50
        },
        "outputId": "bc74a912-073b-421f-f609-a010257d013a"
      },
      "source": [
        "!kaggle datasets download -d benhamner/nips-papers"
      ],
      "execution_count": null,
      "outputs": [
        {
          "output_type": "stream",
          "text": [
            "Warning: Your Kaggle API key is readable by other users on this system! To fix this, you can run 'chmod 600 /content/.kaggle/kaggle.json'\n",
            "nips-papers.zip: Skipping, found more recently modified local copy (use --force to force download)\n"
          ],
          "name": "stdout"
        }
      ]
    },
    {
      "cell_type": "code",
      "metadata": {
        "id": "0Qf2hdyFE2tJ",
        "colab_type": "code",
        "colab": {
          "base_uri": "https://localhost:8080/",
          "height": 34
        },
        "outputId": "dfb1b9de-937b-43b1-bbca-3c2c8c03701a"
      },
      "source": [
        "!ls"
      ],
      "execution_count": null,
      "outputs": [
        {
          "output_type": "stream",
          "text": [
            "nips-papers.zip  sample_data\n"
          ],
          "name": "stdout"
        }
      ]
    },
    {
      "cell_type": "code",
      "metadata": {
        "id": "a4lwAvyvE8id",
        "colab_type": "code",
        "colab": {
          "base_uri": "https://localhost:8080/",
          "height": 50
        },
        "outputId": "6f89e225-6498-4aa0-8835-b3cd94b5c4f2"
      },
      "source": [
        "!unzip \\*.zip  -d /data"
      ],
      "execution_count": 9,
      "outputs": [
        {
          "output_type": "stream",
          "text": [
            "Archive:  nips-papers.zip\n",
            "replace /data/authors.csv? [y]es, [n]o, [A]ll, [N]one, [r]ename: "
          ],
          "name": "stdout"
        }
      ]
    },
    {
      "cell_type": "code",
      "metadata": {
        "id": "20uspZxzE8mP",
        "colab_type": "code",
        "colab": {
          "base_uri": "https://localhost:8080/",
          "height": 101
        },
        "outputId": "51acceaf-1d7f-407a-f6b3-97ca67f2a1e9"
      },
      "source": [
        "!ls -lh /data"
      ],
      "execution_count": 10,
      "outputs": [
        {
          "output_type": "stream",
          "text": [
            "total 408M\n",
            "-rw-r--r-- 1 root root 188K Sep 20  2019 authors.csv\n",
            "-rw-r--r-- 1 root root 207M Sep 20  2019 database.sqlite\n",
            "-rw-r--r-- 1 root root 310K Sep 20  2019 paper_authors.csv\n",
            "-rw-r--r-- 1 root root 201M Sep 20  2019 papers.csv\n"
          ],
          "name": "stdout"
        }
      ]
    },
    {
      "cell_type": "code",
      "metadata": {
        "id": "HN7F8wGsE8oo",
        "colab_type": "code",
        "colab": {}
      },
      "source": [
        "papers=pd.read_csv('/data/papers.csv')"
      ],
      "execution_count": 11,
      "outputs": []
    },
    {
      "cell_type": "markdown",
      "metadata": {
        "id": "8CIVXrhBKu4D",
        "colab_type": "text"
      },
      "source": [
        "### **1.2.Exploring Data**"
      ]
    },
    {
      "cell_type": "code",
      "metadata": {
        "id": "uc1JjfUgGy1Z",
        "colab_type": "code",
        "colab": {
          "base_uri": "https://localhost:8080/",
          "height": 511
        },
        "outputId": "bbf17ec0-3328-4a9b-b74b-91a834d9f163"
      },
      "source": [
        "papers.head(10)"
      ],
      "execution_count": 12,
      "outputs": [
        {
          "output_type": "execute_result",
          "data": {
            "text/html": [
              "<div>\n",
              "<style scoped>\n",
              "    .dataframe tbody tr th:only-of-type {\n",
              "        vertical-align: middle;\n",
              "    }\n",
              "\n",
              "    .dataframe tbody tr th {\n",
              "        vertical-align: top;\n",
              "    }\n",
              "\n",
              "    .dataframe thead th {\n",
              "        text-align: right;\n",
              "    }\n",
              "</style>\n",
              "<table border=\"1\" class=\"dataframe\">\n",
              "  <thead>\n",
              "    <tr style=\"text-align: right;\">\n",
              "      <th></th>\n",
              "      <th>id</th>\n",
              "      <th>year</th>\n",
              "      <th>title</th>\n",
              "      <th>event_type</th>\n",
              "      <th>pdf_name</th>\n",
              "      <th>abstract</th>\n",
              "      <th>paper_text</th>\n",
              "    </tr>\n",
              "  </thead>\n",
              "  <tbody>\n",
              "    <tr>\n",
              "      <th>0</th>\n",
              "      <td>1</td>\n",
              "      <td>1987</td>\n",
              "      <td>Self-Organization of Associative Database and ...</td>\n",
              "      <td>NaN</td>\n",
              "      <td>1-self-organization-of-associative-database-an...</td>\n",
              "      <td>Abstract Missing</td>\n",
              "      <td>767\\n\\nSELF-ORGANIZATION OF ASSOCIATIVE DATABA...</td>\n",
              "    </tr>\n",
              "    <tr>\n",
              "      <th>1</th>\n",
              "      <td>10</td>\n",
              "      <td>1987</td>\n",
              "      <td>A Mean Field Theory of Layer IV of Visual Cort...</td>\n",
              "      <td>NaN</td>\n",
              "      <td>10-a-mean-field-theory-of-layer-iv-of-visual-c...</td>\n",
              "      <td>Abstract Missing</td>\n",
              "      <td>683\\n\\nA MEAN FIELD THEORY OF LAYER IV OF VISU...</td>\n",
              "    </tr>\n",
              "    <tr>\n",
              "      <th>2</th>\n",
              "      <td>100</td>\n",
              "      <td>1988</td>\n",
              "      <td>Storing Covariance by the Associative Long-Ter...</td>\n",
              "      <td>NaN</td>\n",
              "      <td>100-storing-covariance-by-the-associative-long...</td>\n",
              "      <td>Abstract Missing</td>\n",
              "      <td>394\\n\\nSTORING COVARIANCE BY THE ASSOCIATIVE\\n...</td>\n",
              "    </tr>\n",
              "    <tr>\n",
              "      <th>3</th>\n",
              "      <td>1000</td>\n",
              "      <td>1994</td>\n",
              "      <td>Bayesian Query Construction for Neural Network...</td>\n",
              "      <td>NaN</td>\n",
              "      <td>1000-bayesian-query-construction-for-neural-ne...</td>\n",
              "      <td>Abstract Missing</td>\n",
              "      <td>Bayesian Query Construction for Neural\\nNetwor...</td>\n",
              "    </tr>\n",
              "    <tr>\n",
              "      <th>4</th>\n",
              "      <td>1001</td>\n",
              "      <td>1994</td>\n",
              "      <td>Neural Network Ensembles, Cross Validation, an...</td>\n",
              "      <td>NaN</td>\n",
              "      <td>1001-neural-network-ensembles-cross-validation...</td>\n",
              "      <td>Abstract Missing</td>\n",
              "      <td>Neural Network Ensembles, Cross\\nValidation, a...</td>\n",
              "    </tr>\n",
              "    <tr>\n",
              "      <th>5</th>\n",
              "      <td>1002</td>\n",
              "      <td>1994</td>\n",
              "      <td>Using a neural net to instantiate a deformable...</td>\n",
              "      <td>NaN</td>\n",
              "      <td>1002-using-a-neural-net-to-instantiate-a-defor...</td>\n",
              "      <td>Abstract Missing</td>\n",
              "      <td>U sing a neural net to instantiate a\\ndeformab...</td>\n",
              "    </tr>\n",
              "    <tr>\n",
              "      <th>6</th>\n",
              "      <td>1003</td>\n",
              "      <td>1994</td>\n",
              "      <td>Plasticity-Mediated Competitive Learning</td>\n",
              "      <td>NaN</td>\n",
              "      <td>1003-plasticity-mediated-competitive-learning.pdf</td>\n",
              "      <td>Abstract Missing</td>\n",
              "      <td>Plasticity-Mediated Competitive Learning\\n\\nTe...</td>\n",
              "    </tr>\n",
              "    <tr>\n",
              "      <th>7</th>\n",
              "      <td>1004</td>\n",
              "      <td>1994</td>\n",
              "      <td>ICEG Morphology Classification using an Analog...</td>\n",
              "      <td>NaN</td>\n",
              "      <td>1004-iceg-morphology-classification-using-an-a...</td>\n",
              "      <td>Abstract Missing</td>\n",
              "      <td>ICEG Morphology Classification using an\\nAnalo...</td>\n",
              "    </tr>\n",
              "    <tr>\n",
              "      <th>8</th>\n",
              "      <td>1005</td>\n",
              "      <td>1994</td>\n",
              "      <td>Real-Time Control of a Tokamak Plasma Using Ne...</td>\n",
              "      <td>NaN</td>\n",
              "      <td>1005-real-time-control-of-a-tokamak-plasma-usi...</td>\n",
              "      <td>Abstract Missing</td>\n",
              "      <td>Real-Time Control of a Tokamak Plasma\\nUsing N...</td>\n",
              "    </tr>\n",
              "    <tr>\n",
              "      <th>9</th>\n",
              "      <td>1006</td>\n",
              "      <td>1994</td>\n",
              "      <td>Pulsestream Synapses with Non-Volatile Analogu...</td>\n",
              "      <td>NaN</td>\n",
              "      <td>1006-pulsestream-synapses-with-non-volatile-an...</td>\n",
              "      <td>Abstract Missing</td>\n",
              "      <td>Real-Time Control of a Tokamak Plasma\\nUsing N...</td>\n",
              "    </tr>\n",
              "  </tbody>\n",
              "</table>\n",
              "</div>"
            ],
            "text/plain": [
              "     id  ...                                         paper_text\n",
              "0     1  ...  767\\n\\nSELF-ORGANIZATION OF ASSOCIATIVE DATABA...\n",
              "1    10  ...  683\\n\\nA MEAN FIELD THEORY OF LAYER IV OF VISU...\n",
              "2   100  ...  394\\n\\nSTORING COVARIANCE BY THE ASSOCIATIVE\\n...\n",
              "3  1000  ...  Bayesian Query Construction for Neural\\nNetwor...\n",
              "4  1001  ...  Neural Network Ensembles, Cross\\nValidation, a...\n",
              "5  1002  ...  U sing a neural net to instantiate a\\ndeformab...\n",
              "6  1003  ...  Plasticity-Mediated Competitive Learning\\n\\nTe...\n",
              "7  1004  ...  ICEG Morphology Classification using an\\nAnalo...\n",
              "8  1005  ...  Real-Time Control of a Tokamak Plasma\\nUsing N...\n",
              "9  1006  ...  Real-Time Control of a Tokamak Plasma\\nUsing N...\n",
              "\n",
              "[10 rows x 7 columns]"
            ]
          },
          "metadata": {
            "tags": []
          },
          "execution_count": 12
        }
      ]
    },
    {
      "cell_type": "code",
      "metadata": {
        "id": "AYO3f3VvUgE-",
        "colab_type": "code",
        "colab": {
          "base_uri": "https://localhost:8080/",
          "height": 353
        },
        "outputId": "510bd9e1-d847-4ec7-c1e9-fee5fea0683e"
      },
      "source": [
        "print(papers.paper_text[0][:1000] + ' ...')"
      ],
      "execution_count": 13,
      "outputs": [
        {
          "output_type": "stream",
          "text": [
            "767\n",
            "\n",
            "SELF-ORGANIZATION OF ASSOCIATIVE DATABASE\n",
            "AND ITS APPLICATIONS\n",
            "Hisashi Suzuki and Suguru Arimoto\n",
            "Osaka University, Toyonaka, Osaka 560, Japan\n",
            "ABSTRACT\n",
            "An efficient method of self-organizing associative databases is proposed together with\n",
            "applications to robot eyesight systems. The proposed databases can associate any input\n",
            "with some output. In the first half part of discussion, an algorithm of self-organization is\n",
            "proposed. From an aspect of hardware, it produces a new style of neural network. In the\n",
            "latter half part, an applicability to handwritten letter recognition and that to an autonomous\n",
            "mobile robot system are demonstrated.\n",
            "\n",
            "INTRODUCTION\n",
            "Let a mapping f : X -+ Y be given. Here, X is a finite or infinite set, and Y is another\n",
            "finite or infinite set. A learning machine observes any set of pairs (x, y) sampled randomly\n",
            "from X x Y. (X x Y means the Cartesian product of X and Y.) And, it computes some\n",
            "estimate j : X -+ Y of f to make small, the estimation error in some measure.\n",
            " ...\n"
          ],
          "name": "stdout"
        }
      ]
    },
    {
      "cell_type": "markdown",
      "metadata": {
        "id": "AUjjRaz_P7Ld",
        "colab_type": "text"
      },
      "source": [
        "In order to understand how the machine learning field has evolved over time, we will begin by visualizing the number of publications per year from 1987."
      ]
    },
    {
      "cell_type": "code",
      "metadata": {
        "id": "MpebNOw_JBCJ",
        "colab_type": "code",
        "colab": {
          "base_uri": "https://localhost:8080/",
          "height": 328
        },
        "outputId": "6ab5980c-c8e4-471d-edf0-d0cd6614d289"
      },
      "source": [
        "# Group the papers by year\n",
        "groups =papers.groupby('year')\n",
        "\n",
        "# Determine the size of each group\n",
        "counts = groups.size()\n",
        "\n",
        "# Visualise the counts as a bar plot\n",
        "counts.plot(kind='bar')\n",
        "plt.xlabel('Year')\n",
        "plt.ylabel('Number of Papers per Group')\n",
        "plt.title('Machine Learning Publications since 1987')"
      ],
      "execution_count": 14,
      "outputs": [
        {
          "output_type": "execute_result",
          "data": {
            "text/plain": [
              "Text(0.5, 1.0, 'Machine Learning Publications since 1987')"
            ]
          },
          "metadata": {
            "tags": []
          },
          "execution_count": 14
        },
        {
          "output_type": "display_data",
          "data": {
            "image/png": "[encoded data removed]",
            "text/plain": [
              "<Figure size 432x288 with 1 Axes>"
            ]
          },
          "metadata": {
            "tags": [],
            "needs_background": "light"
          }
        }
      ]
    },
    {
      "cell_type": "markdown",
      "metadata": {
        "id": "-7tflSF5K6Hk",
        "colab_type": "text"
      },
      "source": [
        "### **1.3.Preprocessing Data**"
      ]
    },
    {
      "cell_type": "markdown",
      "metadata": {
        "id": "AswDpMrFJ1o7",
        "colab_type": "text"
      },
      "source": [
        "For the analysis of this project , we only consider in the text data associated with the paper and the year the paper was published in so that it is necessary to remove all the columns that do not contain useful text information.\n",
        "\n",
        "1. **year**: Year the paper was published\n",
        "2. **title**: Title of paper\n",
        "3. **paper_text**: Text of paper\n"
      ]
    },
    {
      "cell_type": "code",
      "metadata": {
        "id": "3RUVw7SdG7TK",
        "colab_type": "code",
        "colab": {
          "base_uri": "https://localhost:8080/",
          "height": 343
        },
        "outputId": "d0ee192e-cebc-42bd-ab5e-0c2d6d957675"
      },
      "source": [
        "# Keep interesting columns \n",
        "papers=papers[['year','title','paper_text']]\n",
        "\n",
        "# Print out the first rows of papers\n",
        "papers.head(10)"
      ],
      "execution_count": 15,
      "outputs": [
        {
          "output_type": "execute_result",
          "data": {
            "text/html": [
              "<div>\n",
              "<style scoped>\n",
              "    .dataframe tbody tr th:only-of-type {\n",
              "        vertical-align: middle;\n",
              "    }\n",
              "\n",
              "    .dataframe tbody tr th {\n",
              "        vertical-align: top;\n",
              "    }\n",
              "\n",
              "    .dataframe thead th {\n",
              "        text-align: right;\n",
              "    }\n",
              "</style>\n",
              "<table border=\"1\" class=\"dataframe\">\n",
              "  <thead>\n",
              "    <tr style=\"text-align: right;\">\n",
              "      <th></th>\n",
              "      <th>year</th>\n",
              "      <th>title</th>\n",
              "      <th>paper_text</th>\n",
              "    </tr>\n",
              "  </thead>\n",
              "  <tbody>\n",
              "    <tr>\n",
              "      <th>0</th>\n",
              "      <td>1987</td>\n",
              "      <td>Self-Organization of Associative Database and ...</td>\n",
              "      <td>767\\n\\nSELF-ORGANIZATION OF ASSOCIATIVE DATABA...</td>\n",
              "    </tr>\n",
              "    <tr>\n",
              "      <th>1</th>\n",
              "      <td>1987</td>\n",
              "      <td>A Mean Field Theory of Layer IV of Visual Cort...</td>\n",
              "      <td>683\\n\\nA MEAN FIELD THEORY OF LAYER IV OF VISU...</td>\n",
              "    </tr>\n",
              "    <tr>\n",
              "      <th>2</th>\n",
              "      <td>1988</td>\n",
              "      <td>Storing Covariance by the Associative Long-Ter...</td>\n",
              "      <td>394\\n\\nSTORING COVARIANCE BY THE ASSOCIATIVE\\n...</td>\n",
              "    </tr>\n",
              "    <tr>\n",
              "      <th>3</th>\n",
              "      <td>1994</td>\n",
              "      <td>Bayesian Query Construction for Neural Network...</td>\n",
              "      <td>Bayesian Query Construction for Neural\\nNetwor...</td>\n",
              "    </tr>\n",
              "    <tr>\n",
              "      <th>4</th>\n",
              "      <td>1994</td>\n",
              "      <td>Neural Network Ensembles, Cross Validation, an...</td>\n",
              "      <td>Neural Network Ensembles, Cross\\nValidation, a...</td>\n",
              "    </tr>\n",
              "    <tr>\n",
              "      <th>5</th>\n",
              "      <td>1994</td>\n",
              "      <td>Using a neural net to instantiate a deformable...</td>\n",
              "      <td>U sing a neural net to instantiate a\\ndeformab...</td>\n",
              "    </tr>\n",
              "    <tr>\n",
              "      <th>6</th>\n",
              "      <td>1994</td>\n",
              "      <td>Plasticity-Mediated Competitive Learning</td>\n",
              "      <td>Plasticity-Mediated Competitive Learning\\n\\nTe...</td>\n",
              "    </tr>\n",
              "    <tr>\n",
              "      <th>7</th>\n",
              "      <td>1994</td>\n",
              "      <td>ICEG Morphology Classification using an Analog...</td>\n",
              "      <td>ICEG Morphology Classification using an\\nAnalo...</td>\n",
              "    </tr>\n",
              "    <tr>\n",
              "      <th>8</th>\n",
              "      <td>1994</td>\n",
              "      <td>Real-Time Control of a Tokamak Plasma Using Ne...</td>\n",
              "      <td>Real-Time Control of a Tokamak Plasma\\nUsing N...</td>\n",
              "    </tr>\n",
              "    <tr>\n",
              "      <th>9</th>\n",
              "      <td>1994</td>\n",
              "      <td>Pulsestream Synapses with Non-Volatile Analogu...</td>\n",
              "      <td>Real-Time Control of a Tokamak Plasma\\nUsing N...</td>\n",
              "    </tr>\n",
              "  </tbody>\n",
              "</table>\n",
              "</div>"
            ],
            "text/plain": [
              "   year  ...                                         paper_text\n",
              "0  1987  ...  767\\n\\nSELF-ORGANIZATION OF ASSOCIATIVE DATABA...\n",
              "1  1987  ...  683\\n\\nA MEAN FIELD THEORY OF LAYER IV OF VISU...\n",
              "2  1988  ...  394\\n\\nSTORING COVARIANCE BY THE ASSOCIATIVE\\n...\n",
              "3  1994  ...  Bayesian Query Construction for Neural\\nNetwor...\n",
              "4  1994  ...  Neural Network Ensembles, Cross\\nValidation, a...\n",
              "5  1994  ...  U sing a neural net to instantiate a\\ndeformab...\n",
              "6  1994  ...  Plasticity-Mediated Competitive Learning\\n\\nTe...\n",
              "7  1994  ...  ICEG Morphology Classification using an\\nAnalo...\n",
              "8  1994  ...  Real-Time Control of a Tokamak Plasma\\nUsing N...\n",
              "9  1994  ...  Real-Time Control of a Tokamak Plasma\\nUsing N...\n",
              "\n",
              "[10 rows x 3 columns]"
            ]
          },
          "metadata": {
            "tags": []
          },
          "execution_count": 15
        }
      ]
    },
    {
      "cell_type": "markdown",
      "metadata": {
        "id": "HmCCHoL2RshM",
        "colab_type": "text"
      },
      "source": [
        "Let's now analyze the titles of the different papers to identify machine learning trends. \n",
        "First, we will perform some simple preprocessing on the titles in order to make them more amenable for analysis. We will use a regular expression to **remove any punctuation** in the title. Then we will **perform lowercasing**. "
      ]
    },
    {
      "cell_type": "code",
      "metadata": {
        "id": "_5crJmuFJJ6Q",
        "colab_type": "code",
        "colab": {
          "base_uri": "https://localhost:8080/",
          "height": 504
        },
        "outputId": "bc498128-d5e3-42cb-bb16-59546f9f91f9"
      },
      "source": [
        "\n",
        "# Print the titles of the first rows \n",
        "print(papers['title'].head())\n",
        "\n",
        "# Remove punctuation\n",
        "papers['title_processed'] = papers['title'].map(lambda x: re.sub('[,\\.!?]', '', x))\n",
        "\n",
        "# Convert the titles to lowercase\n",
        "papers['title_processed'] = papers['title_processed'].str.lower()\n",
        "\n",
        "# Print the processed titles of the first rows \n",
        "papers['title_processed'].head(10)"
      ],
      "execution_count": 18,
      "outputs": [
        {
          "output_type": "stream",
          "text": [
            "0    Self-Organization of Associative Database and ...\n",
            "1    A Mean Field Theory of Layer IV of Visual Cort...\n",
            "2    Storing Covariance by the Associative Long-Ter...\n",
            "3    Bayesian Query Construction for Neural Network...\n",
            "4    Neural Network Ensembles, Cross Validation, an...\n",
            "Name: title, dtype: object\n"
          ],
          "name": "stdout"
        },
        {
          "output_type": "stream",
          "text": [
            "/usr/local/lib/python3.6/dist-packages/ipykernel_launcher.py:6: SettingWithCopyWarning: \n",
            "A value is trying to be set on a copy of a slice from a DataFrame.\n",
            "Try using .loc[row_indexer,col_indexer] = value instead\n",
            "\n",
            "See the caveats in the documentation: https://pandas.pydata.org/pandas-docs/stable/user_guide/indexing.html#returning-a-view-versus-a-copy\n",
            "  \n",
            "/usr/local/lib/python3.6/dist-packages/ipykernel_launcher.py:9: SettingWithCopyWarning: \n",
            "A value is trying to be set on a copy of a slice from a DataFrame.\n",
            "Try using .loc[row_indexer,col_indexer] = value instead\n",
            "\n",
            "See the caveats in the documentation: https://pandas.pydata.org/pandas-docs/stable/user_guide/indexing.html#returning-a-view-versus-a-copy\n",
            "  if __name__ == '__main__':\n"
          ],
          "name": "stderr"
        },
        {
          "output_type": "execute_result",
          "data": {
            "text/plain": [
              "0    self-organization of associative database and ...\n",
              "1    a mean field theory of layer iv of visual cort...\n",
              "2    storing covariance by the associative long-ter...\n",
              "3    bayesian query construction for neural network...\n",
              "4    neural network ensembles cross validation and ...\n",
              "5    using a neural net to instantiate a deformable...\n",
              "6             plasticity-mediated competitive learning\n",
              "7    iceg morphology classification using an analog...\n",
              "8    real-time control of a tokamak plasma using ne...\n",
              "9    pulsestream synapses with non-volatile analogu...\n",
              "Name: title_processed, dtype: object"
            ]
          },
          "metadata": {
            "tags": []
          },
          "execution_count": 18
        }
      ]
    },
    {
      "cell_type": "markdown",
      "metadata": {
        "id": "miGz-qa5SAa2",
        "colab_type": "text"
      },
      "source": [
        "##  **2.Visualizing the preprocessed text data**\n",
        "To have a visual representation of the most common words, let's make a word cloud of the titles of the research papers. "
      ]
    },
    {
      "cell_type": "code",
      "metadata": {
        "id": "veJyALHdJMco",
        "colab_type": "code",
        "colab": {
          "base_uri": "https://localhost:8080/",
          "height": 217
        },
        "outputId": "b5cb073a-879a-4130-a639-acc5f6a521a1"
      },
      "source": [
        "# Join the different processed titles together.\n",
        "long_string = ' '.join(papers['title_processed'])\n",
        "\n",
        "# Create a WordCloud object, generate a wordcloud and visualise it\n",
        "wordcloud = wordcloud.WordCloud()\n",
        "\n",
        "# Generate a word cloud\n",
        "wordcloud.generate(long_string)\n",
        "\n",
        "# Visualize the word cloud\n",
        "wordcloud.to_image()"
      ],
      "execution_count": 19,
      "outputs": [
        {
          "output_type": "execute_result",
          "data": {
            "image/png": "[encoded data removed]",
            "text/plain": [
              "<PIL.Image.Image image mode=RGB size=400x200 at 0x7FE6994FCF60>"
            ]
          },
          "metadata": {
            "tags": []
          },
          "execution_count": 19
        }
      ]
    },
    {
      "cell_type": "markdown",
      "metadata": {
        "id": "ecVQprIESkLU",
        "colab_type": "text"
      },
      "source": [
        "## **3.Preparing the text for LDA analysis**\n",
        " LDA is able to perform topic detection on large document sets, determining what the main 'topics' are in a large unlabeled set of texts. A 'topic' is a collection of words that tend to co-occur often. The hypothesis is that LDA might be able to clarify what the different topics in the research titles are. These topics can then be used as a starting point for further analysis.\n",
        "\n",
        "LDA does not work directly on text data. First, it is necessary to convert the documents into a simple vector representation. This representation will then be used by LDA to determine the topics. Each entry of a 'document vector' will correspond with the number of times a word occurred in the document. In conclusion, we will convert a list of titles into a list of vectors, all with length equal to the vocabulary. "
      ]
    },
    {
      "cell_type": "code",
      "metadata": {
        "id": "2EnUrolYJO9o",
        "colab_type": "code",
        "colab": {
          "base_uri": "https://localhost:8080/",
          "height": 331
        },
        "outputId": "52420f18-e96c-45e9-a10e-9da171637523"
      },
      "source": [
        "# Helper function\n",
        "def plot_10_most_common_words(count_data, count_vectorizer):\n",
        "    import matplotlib.pyplot as plt\n",
        "    words = count_vectorizer.get_feature_names()\n",
        "    total_counts = np.zeros(len(words))\n",
        "    for t in count_data:\n",
        "        total_counts+=t.toarray()[0]\n",
        "    \n",
        "    count_dict = (zip(words, total_counts))\n",
        "    count_dict = sorted(count_dict, key=lambda x:x[1], reverse=True)[0:10]\n",
        "    words = [w[0] for w in count_dict]\n",
        "    counts = [w[1] for w in count_dict]\n",
        "    x_pos = np.arange(len(words)) \n",
        "\n",
        "    plt.bar(x_pos, counts,align='center')\n",
        "    plt.xticks(x_pos, words, rotation=90) \n",
        "    plt.xlabel('words')\n",
        "    plt.ylabel('counts')\n",
        "    plt.title('10 most common words')\n",
        "    plt.show()\n",
        "\n",
        "# Initialise the count vectorizer with the English stop words\n",
        "count_vectorizer = CountVectorizer(stop_words='english')\n",
        "\n",
        "# Fit and transform the processed titles\n",
        "count_data = count_vectorizer.fit_transform(papers['title_processed'])\n",
        "\n",
        "# Visualise the 10 most common words\n",
        "plot_10_most_common_words(count_data, count_vectorizer)"
      ],
      "execution_count": 20,
      "outputs": [
        {
          "output_type": "display_data",
          "data": {
            "image/png": "[encoded data removed]",
            "text/plain": [
              "<Figure size 432x288 with 1 Axes>"
            ]
          },
          "metadata": {
            "tags": [],
            "needs_background": "light"
          }
        }
      ]
    },
    {
      "cell_type": "markdown",
      "metadata": {
        "id": "yVk0TCHsS8L6",
        "colab_type": "text"
      },
      "source": [
        "## **4.Analysing trends with LDA**\n",
        "\n"
      ]
    },
    {
      "cell_type": "code",
      "metadata": {
        "id": "fKDJUHGBJRlr",
        "colab_type": "code",
        "colab": {
          "base_uri": "https://localhost:8080/",
          "height": 538
        },
        "outputId": "87887f9b-6228-458d-8c9e-5cc8f337c01f"
      },
      "source": [
        "# Helper function\n",
        "def print_topics(model, count_vectorizer, n_top_words):\n",
        "    words = count_vectorizer.get_feature_names()\n",
        "    for topic_idx, topic in enumerate(model.components_):\n",
        "        print(\"\\nTopic #%d:\" % topic_idx)\n",
        "        print(\" \".join([words[i]\n",
        "                        for i in topic.argsort()[:-n_top_words - 1:-1]]))\n",
        "        \n",
        "# Tweak the two parameters below (use int values below 15)\n",
        "number_topics = 10\n",
        "number_words = 10\n",
        "\n",
        "# Create and fit the LDA model\n",
        "lda = LDA(n_components=number_topics)\n",
        "lda.fit(count_data)\n",
        "\n",
        "# Print the topics found by the LDA model\n",
        "print(\"Topics found via LDA:\")\n",
        "print_topics(lda, count_vectorizer, number_words)"
      ],
      "execution_count": 21,
      "outputs": [
        {
          "output_type": "stream",
          "text": [
            "Topics found via LDA:\n",
            "\n",
            "Topic #0:\n",
            "neural networks network model using recurrent vector support spike analog\n",
            "\n",
            "Topic #1:\n",
            "learning data clustering dimensional decision probabilistic high analysis sparse maximum\n",
            "\n",
            "Topic #2:\n",
            "learning based feature recognition kernel deep natural reinforcement selection model\n",
            "\n",
            "Topic #3:\n",
            "learning human model using networks classification reinforcement data modeling approximation\n",
            "\n",
            "Topic #4:\n",
            "learning markov order hidden random error analysis bounds deep fields\n",
            "\n",
            "Topic #5:\n",
            "bayesian learning sampling gradient policy propagation using model networks belief\n",
            "\n",
            "Topic #6:\n",
            "optimization learning online algorithms sparse stochastic convex linear inference efficient\n",
            "\n",
            "Topic #7:\n",
            "learning supervised adaptive based monte carlo optimal semi using search\n",
            "\n",
            "Topic #8:\n",
            "learning multi matrix active rank estimation low multiple task classification\n",
            "\n",
            "Topic #9:\n",
            "models gaussian learning process inference graphical processes latent using model\n"
          ],
          "name": "stdout"
        }
      ]
    },
    {
      "cell_type": "code",
      "metadata": {
        "id": "Y5-5Z-S1JTv3",
        "colab_type": "code",
        "colab": {}
      },
      "source": [
        ""
      ],
      "execution_count": 21,
      "outputs": []
    }
  ]
}